{
 "cells": [
  {
   "cell_type": "code",
   "execution_count": 1,
   "id": "8f667be3",
   "metadata": {},
   "outputs": [],
   "source": [
    "import matplotlib.pyplot as plt\n",
    "import numpy as np"
   ]
  },
  {
   "cell_type": "code",
   "execution_count": null,
   "id": "cefae2d3",
   "metadata": {},
   "outputs": [],
   "source": [
    "z = np.arange(-7,7,0.1)\n",
    "phiz = 1./(1.+np.exp(-z))\n",
    "plt.xkcd()\n",
    "plt.plot(z,phiz,color='r')\n",
    "plt.axvline(0,ls='dotted', color='b')"
   ]
  }
 ],
 "metadata": {
  "kernelspec": {
   "display_name": "Python 3 (ipykernel)",
   "language": "python",
   "name": "python3"
  },
  "language_info": {
   "codemirror_mode": {
    "name": "ipython",
    "version": 3
   },
   "file_extension": ".py",
   "mimetype": "text/x-python",
   "name": "python",
   "nbconvert_exporter": "python",
   "pygments_lexer": "ipython3",
   "version": "3.10.4"
  }
 },
 "nbformat": 4,
 "nbformat_minor": 5
}
